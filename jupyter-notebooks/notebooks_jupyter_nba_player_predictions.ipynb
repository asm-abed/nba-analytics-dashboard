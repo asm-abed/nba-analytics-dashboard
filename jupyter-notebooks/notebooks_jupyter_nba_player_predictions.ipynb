{
 "cells": [
  {
   "cell_type": "code",
   "execution_count": null,
   "id": "768d8a60",
   "metadata": {},
   "outputs": [],
   "source": [
    "import pyspark\n",
    "from pyspark.sql import SparkSession\n",
    "from pyspark.sql import functions as f\n",
    "from datetime import date, timedelta\n",
    "\n",
    "log = date.today()-timedelta(days=1)\n",
    "print(log)"
   ]
  },
  {
   "cell_type": "code",
   "execution_count": null,
   "id": "21453118",
   "metadata": {},
   "outputs": [],
   "source": [
    "spark = SparkSession.builder \\\n",
    "    .appName('spark-nba') \\\n",
    "    .getOrCreate()"
   ]
  },
  {
   "cell_type": "code",
   "execution_count": null,
   "id": "28a2ec28",
   "metadata": {},
   "outputs": [],
   "source": [
    "teams = spark.read.format('bigquery') \\\n",
    "  .option('table', 'dez-nba-analytics.nba_database.nba_teams') \\\n",
    "  .load()\n",
    "\n",
    "teams = teams.select('id', 'full_name', 'abbreviation')"
   ]
  },
  {
   "cell_type": "code",
   "execution_count": null,
   "id": "0785ccb3",
   "metadata": {},
   "outputs": [],
   "source": [
    "box_df = spark.read.format('bigquery') \\\n",
    "    .option('table', 'dez-nba-analytics.nba_database.player_boxscore') \\\n",
    "    .load() \\\n",
    "    .filter(f.col('season_id') == 22023)"
   ]
  },
  {
   "cell_type": "code",
   "execution_count": null,
   "id": "a2af773d",
   "metadata": {},
   "outputs": [],
   "source": [
    "box_df = box_df.join(teams, box_df.team == teams.abbreviation, 'inner')"
   ]
  },
  {
   "cell_type": "code",
   "execution_count": null,
   "id": "6d0e1485",
   "metadata": {},
   "outputs": [],
   "source": [
    "box_df.createOrReplaceTempView('box_df')"
   ]
  },
  {
   "cell_type": "code",
   "execution_count": null,
   "id": "18e736ba",
   "metadata": {},
   "outputs": [],
   "source": [
    "cummulatives_df = spark.sql(\"\"\"\n",
    "SELECT\n",
    "        game_date,\n",
    "        game_id,\n",
    "        season_type,\n",
    "        season_id,\n",
    "        id AS team_id,\n",
    "        full_name AS team_name,\n",
    "        player_id,\n",
    "        player,\n",
    "        pts AS points_scored,\n",
    "        (SUM(PTS) OVER(PARTITION BY season_id, player_id ORDER BY game_date, game_id ROWS UNBOUNDED PRECEDING)/COUNT(game_id) OVER(PARTITION BY season_id, player_id ORDER BY game_date, game_id ROWS UNBOUNDED PRECEDING)) AS cumavg_pts,\n",
    "        (SUM(field_goal_made) OVER(PARTITION BY season_id, player_id ORDER BY game_date, game_id ROWS UNBOUNDED PRECEDING)/COUNT(field_goal_made) OVER(PARTITION BY season_id, player_id ORDER BY game_date, game_id ROWS UNBOUNDED PRECEDING)) AS cumavg_fg_made,\n",
    "        (SUM(field_goal_attempt) OVER(PARTITION BY season_id, player_id ORDER BY game_date, game_id ROWS UNBOUNDED PRECEDING)/COUNT(field_goal_attempt) OVER(PARTITION BY season_id, player_id ORDER BY game_date, game_id ROWS UNBOUNDED PRECEDING)) AS cumavg_fg_attempt,\n",
    "        (SUM(free_throw_made) OVER(PARTITION BY season_id, player_id ORDER BY game_date, game_id ROWS UNBOUNDED PRECEDING)/COUNT(free_throw_made) OVER(PARTITION BY season_id, player_id ORDER BY game_date, game_id ROWS UNBOUNDED PRECEDING)) AS cumavg_ft_made,\n",
    "        (SUM(free_throw_attempt) OVER(PARTITION BY season_id, player_id ORDER BY game_date, game_id ROWS UNBOUNDED PRECEDING)/COUNT(free_throw_attempt) OVER(PARTITION BY season_id, player_id ORDER BY game_date, game_id ROWS UNBOUNDED PRECEDING)) AS cumavg_ft_attempt,\n",
    "        (SUM(OREB) OVER(PARTITION BY season_id, player_id ORDER BY game_date, game_id ROWS UNBOUNDED PRECEDING)/COUNT(OREB) OVER(PARTITION BY season_id, player_id ORDER BY game_date, game_id ROWS UNBOUNDED PRECEDING)) AS cumavg_oreb,\n",
    "        (SUM(DREB) OVER(PARTITION BY season_id, player_id ORDER BY game_date, game_id ROWS UNBOUNDED PRECEDING)/COUNT(DREB) OVER(PARTITION BY season_id, player_id ORDER BY game_date, game_id ROWS UNBOUNDED PRECEDING)) AS cumavg_dreb,\n",
    "        (SUM(STL) OVER(PARTITION BY season_id, player_id ORDER BY game_date, game_id ROWS UNBOUNDED PRECEDING)/COUNT(STL) OVER(PARTITION BY season_id, player_id ORDER BY game_date, game_id ROWS UNBOUNDED PRECEDING)) AS cumavg_stl,\n",
    "        (SUM(AST) OVER(PARTITION BY season_id, player_id ORDER BY game_date, game_id ROWS UNBOUNDED PRECEDING)/COUNT(AST) OVER(PARTITION BY season_id, player_id ORDER BY game_date, game_id ROWS UNBOUNDED PRECEDING)) AS cumavg_ast,\n",
    "        (SUM(BLK) OVER(PARTITION BY season_id, player_id ORDER BY game_date, game_id ROWS UNBOUNDED PRECEDING)/COUNT(BLK) OVER(PARTITION BY season_id, player_id ORDER BY game_date, game_id ROWS UNBOUNDED PRECEDING)) AS cumavg_blk,\n",
    "        (SUM(PF) OVER(PARTITION BY season_id, player_id ORDER BY game_date, game_id ROWS UNBOUNDED PRECEDING)/COUNT(PF) OVER(PARTITION BY season_id, player_id ORDER BY game_date, game_id ROWS UNBOUNDED PRECEDING)) AS cumavg_pf,\n",
    "        (SUM(TOV) OVER(PARTITION BY season_id, player_id ORDER BY game_date, game_id ROWS UNBOUNDED PRECEDING)/COUNT(TOV) OVER(PARTITION BY season_id, player_id ORDER BY game_date, game_id ROWS UNBOUNDED PRECEDING)) AS cumavg_tov\n",
    "    FROM\n",
    "        box_df\n",
    "\"\"\")"
   ]
  },
  {
   "cell_type": "code",
   "execution_count": null,
   "id": "8a4f8ae8",
   "metadata": {},
   "outputs": [],
   "source": [
    "cummulatives_df = cummulatives_df.filter(f.col('game_date') == log)"
   ]
  },
  {
   "cell_type": "code",
   "execution_count": null,
   "id": "b93373f2",
   "metadata": {},
   "outputs": [],
   "source": [
    "cummulatives_df = cummulatives_df \\\n",
    "    .withColumn('pts_prediction', \\\n",
    "                f.col('cumavg_pts') + \\\n",
    "                0.4*f.col('cumavg_fg_made') - \\\n",
    "                0.7*f.col('cumavg_fg_attempt') - \\\n",
    "                0.4*(f.col('cumavg_ft_attempt') - f.col('cumavg_ft_made')) + \\\n",
    "                0.7*f.col('cumavg_oreb') + \\\n",
    "                0.3*f.col('cumavg_dreb') + \\\n",
    "                f.col('cumavg_stl') + \\\n",
    "                0.7*f.col('cumavg_ast') + \\\n",
    "                0.7*f.col('cumavg_blk') + \\\n",
    "                0.4*f.col('cumavg_pf') - \\\n",
    "                f.col('cumavg_tov') \\\n",
    "               )     "
   ]
  },
  {
   "cell_type": "code",
   "execution_count": null,
   "id": "a85178af",
   "metadata": {},
   "outputs": [],
   "source": [
    "cummulatives_df.write \\\n",
    "    .format('bigquery') \\\n",
    "    .option('temporaryGcsBucket', 'dataproc-temp-us-central1-385360674362-ioatwhvx') \\\n",
    "    .mode('append') \\\n",
    "    .save('dez-nba-analytics.nba_database.player_points_prediction')"
   ]
  }
 ],
 "metadata": {
  "kernelspec": {
   "display_name": "PySpark",
   "language": "python",
   "name": "pyspark"
  },
  "language_info": {
   "codemirror_mode": {
    "name": "ipython",
    "version": 3
   },
   "file_extension": ".py",
   "mimetype": "text/x-python",
   "name": "python",
   "nbconvert_exporter": "python",
   "pygments_lexer": "ipython3",
   "version": "3.11.8"
  }
 },
 "nbformat": 4,
 "nbformat_minor": 5
}