{
 "cells": [
  {
   "cell_type": "code",
   "execution_count": 1,
   "id": "768d8a60",
   "metadata": {},
   "outputs": [],
   "source": [
    "import pyspark\n",
    "from pyspark.sql import SparkSession\n",
    "from pyspark.sql import functions as f"
   ]
  },
  {
   "cell_type": "code",
   "execution_count": 2,
   "id": "21453118",
   "metadata": {},
   "outputs": [
    {
     "name": "stderr",
     "output_type": "stream",
     "text": [
      "24/03/29 11:55:59 WARN SparkSession: Using an existing Spark session; only runtime SQL configurations will take effect.\n"
     ]
    }
   ],
   "source": [
    "spark = SparkSession.builder \\\n",
    "    .appName('spark-bq-predictions') \\\n",
    "    .getOrCreate()"
   ]
  },
  {
   "cell_type": "code",
   "execution_count": null,
   "id": "b3e5dfc0",
   "metadata": {},
   "outputs": [],
   "source": [
    "spark"
   ]
  },
  {
   "cell_type": "code",
   "execution_count": 3,
   "id": "28a2ec28",
   "metadata": {},
   "outputs": [],
   "source": [
    "teams = spark.read.format('bigquery') \\\n",
    "  .option('table', 'dez-nba-analytics.nba_database.nba_teams') \\\n",
    "  .load()\n",
    "\n",
    "teams = teams.select('id', 'full_name', 'abbreviation')"
   ]
  },
  {
   "cell_type": "code",
   "execution_count": 4,
   "id": "0785ccb3",
   "metadata": {},
   "outputs": [],
   "source": [
    "box_df = spark.read.format('bigquery') \\\n",
    "  .option('table', 'dez-nba-analytics.nba_database.player_boxscore_par_cl') \\\n",
    "  .load()"
   ]
  },
  {
   "cell_type": "code",
   "execution_count": 5,
   "id": "a2af773d",
   "metadata": {},
   "outputs": [],
   "source": [
    "box_df = box_df.join(teams, box_df.team == teams.abbreviation, 'inner')"
   ]
  },
  {
   "cell_type": "code",
   "execution_count": 6,
   "id": "031775f5",
   "metadata": {},
   "outputs": [
    {
     "name": "stderr",
     "output_type": "stream",
     "text": [
      "24/03/29 11:56:15 WARN SparkStringUtils: Truncated the string representation of a plan since it was too large. This behavior can be adjusted by setting 'spark.sql.debug.maxToStringFields'.\n",
      "                                                                                \r"
     ]
    },
    {
     "name": "stdout",
     "output_type": "stream",
     "text": [
      "+--------+-------------------+--------------+---------+--------------+----+----+----+-----------+---+---------------+------------------+-------------------+-------------+----------------+------------+---------------+------------------+--------------+----+----+---+---+---+---+---+---+---------+---+---------+----------+--------------------+------------+\n",
      "| game_id|          game_date|   season_type|player_id|        player|team|home|away|mins_played|PTS|field_goal_made|field_goal_attempt|     field_goal_pct|three_pt_made|three_pt_attempt|three_pt_pct|free_throw_made|free_throw_attempt|free_throw_pct|OREB|DREB|REB|AST|STL|BLK|TOV| PF|plusminus|win|season_id|        id|           full_name|abbreviation|\n",
      "+--------+-------------------+--------------+---------+--------------+----+----+----+-----------+---+---------------+------------------+-------------------+-------------+----------------+------------+---------------+------------------+--------------+----+----+---+---+---+---+---+---+---------+---+---------+----------+--------------------+------------+\n",
      "|29600147|1996-11-21 00:00:00|Regular Season|      768|     Acie Earl| TOR| TOR| CLE|         22|  8|              2|                 8|               0.25|            0|               0|         0.0|              4|                 4|           1.0|   5|   3|  8|  1|  0|  0|  1|  2|        4|  0|    21996|1610612761|     Toronto Raptors|         TOR|\n",
      "|29600075|1996-11-11 00:00:00|Regular Season|      768|     Acie Earl| TOR| TOR| DEN|          2|  0|              0|                 1|                0.0|            0|               0|         0.0|              0|                 0|           0.0|   0|   0|  0|  0|  0|  0|  1|  0|       -3|  0|    21996|1610612761|     Toronto Raptors|         TOR|\n",
      "|29600131|1996-11-19 00:00:00|Regular Season|      768|     Acie Earl| TOR| TOR| SEA|          2|  0|              0|                 2|                0.0|            0|               0|         0.0|              0|                 0|           0.0|   0|   1|  1|  0|  0|  0|  0|  0|       -2|  0|    21996|1610612761|     Toronto Raptors|         TOR|\n",
      "|29600162|1996-11-23 00:00:00|Regular Season|      768|     Acie Earl| TOR| TOR| ATL|          2|  0|              0|                 0|                0.0|            0|               0|         0.0|              0|                 0|           0.0|   0|   0|  0|  0|  0|  0|  0|  1|       -4|  0|    21996|1610612761|     Toronto Raptors|         TOR|\n",
      "|29600215|1996-11-30 00:00:00|Regular Season|      768|     Acie Earl| TOR| MIN| TOR|         18|  9|              3|                 7|              0.429|            0|               0|         0.0|              3|                 4|          0.75|   3|   7| 10|  0|  1|  2|  3|  2|        0|  0|    21996|1610612761|     Toronto Raptors|         TOR|\n",
      "|29600117|1996-11-16 00:00:00|Regular Season|      768|     Acie Earl| TOR| ORL| TOR|         16| 10|              5|                 7| 0.7140000000000001|            0|               1|         0.0|              0|                 0|           0.0|   1|   1|  2|  0|  0|  0|  1|  4|       -1|  0|    21996|1610612761|     Toronto Raptors|         TOR|\n",
      "|29600189|1996-11-27 00:00:00|Regular Season|      768|     Acie Earl| TOR| TOR| CHH|         10|  2|              0|                 3|                0.0|            0|               0|         0.0|              2|                 2|           1.0|   1|   3|  4|  2|  1|  1|  0|  3|       -8|  1|    21996|1610612761|     Toronto Raptors|         TOR|\n",
      "|29600182|1996-11-26 00:00:00|Regular Season|      768|     Acie Earl| TOR| TOR| SAC|         28|  8|              3|                 9|0.33299999999999996|            0|               0|         0.0|              2|                 2|           1.0|   2|   1|  3|  0|  0|  2|  3|  4|        8|  0|    21996|1610612761|     Toronto Raptors|         TOR|\n",
      "|29600097|1996-11-14 00:00:00|Regular Season|      768|     Acie Earl| TOR| NYK| TOR|          7|  1|              0|                 1|                0.0|            0|               0|         0.0|              1|                 2|           0.5|   0|   0|  0|  1|  0|  0|  0|  0|       -6|  0|    21996|1610612761|     Toronto Raptors|         TOR|\n",
      "|29600091|1996-11-13 00:00:00|Regular Season|      768|     Acie Earl| TOR| TOR| PHI|         11|  4|              1|                 5|                0.2|            0|               0|         0.0|              2|                 2|           1.0|   1|   1|  2|  1|  1|  1|  1|  2|       10|  1|    21996|1610612761|     Toronto Raptors|         TOR|\n",
      "|29600102|1996-11-14 00:00:00|Regular Season|      769|B.J. Armstrong| GSW| GSW| MIL|         12|  1|              0|                 2|                0.0|            0|               1|         0.0|              1|                 1|           1.0|   0|   1|  1|  3|  0|  0|  0|  0|        0|  1|    21996|1610612744|Golden State Warr...|         GSW|\n",
      "|29600122|1996-11-16 00:00:00|Regular Season|      769|B.J. Armstrong| GSW| HOU| GSW|         16|  8|              4|                10|                0.4|            0|               2|         0.0|              0|                 0|           0.0|   0|   0|  0|  0|  0|  0|  0|  1|      -11|  0|    21996|1610612744|Golden State Warr...|         GSW|\n",
      "|29600136|1996-11-19 00:00:00|Regular Season|      769|B.J. Armstrong| GSW| GSW| LAL|         22|  6|              3|                 7|              0.429|            0|               1|         0.0|              0|                 0|           0.0|   0|   2|  2|  7|  0|  0|  2|  1|        8|  0|    21996|1610612744|Golden State Warr...|         GSW|\n",
      "|29600186|1996-11-26 00:00:00|Regular Season|      769|B.J. Armstrong| GSW| GSW| MIA|         22|  6|              2|                 6|0.33299999999999996|            0|               2|         0.0|              2|                 2|           1.0|   0|   1|  1|  2|  0|  0|  0|  1|      -25|  0|    21996|1610612744|Golden State Warr...|         GSW|\n",
      "|29600028|1996-11-03 00:00:00|Regular Season|      769|B.J. Armstrong| GSW| VAN| GSW|         20|  9|              4|                 9|              0.444|            0|               3|         0.0|              1|                 1|           1.0|   0|   2|  2|  1|  0|  0|  1|  0|       -4|  1|    21996|1610612744|Golden State Warr...|         GSW|\n",
      "|29600013|1996-11-01 00:00:00|Regular Season|      769|B.J. Armstrong| GSW| GSW| LAC|         16|  2|              1|                 5|                0.2|            0|               2|         0.0|              0|                 0|           0.0|   1|   0|  1|  2|  0|  0|  2|  0|      -15|  0|    21996|1610612744|Golden State Warr...|         GSW|\n",
      "|29600087|1996-11-12 00:00:00|Regular Season|      769|B.J. Armstrong| GSW| SEA| GSW|         18|  4|              2|                 3|              0.667|            0|               0|         0.0|              0|                 0|           0.0|   0|   2|  2|  0|  0|  0|  0|  1|      -14|  0|    21996|1610612744|Golden State Warr...|         GSW|\n",
      "|29600061|1996-11-08 00:00:00|Regular Season|      769|B.J. Armstrong| GSW| DEN| GSW|         22|  5|              2|                 2|                1.0|            0|               0|         0.0|              1|                 2|           0.5|   0|   1|  1|  4|  1|  0|  1|  1|        5|  0|    21996|1610612744|Golden State Warr...|         GSW|\n",
      "|29600154|1996-11-21 00:00:00|Regular Season|      769|B.J. Armstrong| GSW| UTA| GSW|         23|  7|              2|                 6|0.33299999999999996|            0|               3|         0.0|              3|                 5|           0.6|   0|   0|  0|  3|  0|  0|  1|  2|        1|  0|    21996|1610612744|Golden State Warr...|         GSW|\n",
      "|29600050|1996-11-07 00:00:00|Regular Season|      769|B.J. Armstrong| GSW| GSW| NYK|         20|  7|              2|                 3|              0.667|            0|               0|         0.0|              3|                 4|          0.75|   0|   1|  1|  5|  1|  0|  0|  4|        0|  0|    21996|1610612744|Golden State Warr...|         GSW|\n",
      "+--------+-------------------+--------------+---------+--------------+----+----+----+-----------+---+---------------+------------------+-------------------+-------------+----------------+------------+---------------+------------------+--------------+----+----+---+---+---+---+---+---+---------+---+---------+----------+--------------------+------------+\n",
      "only showing top 20 rows\n",
      "\n"
     ]
    }
   ],
   "source": [
    "box_df.show()"
   ]
  },
  {
   "cell_type": "code",
   "execution_count": 7,
   "id": "6d0e1485",
   "metadata": {},
   "outputs": [],
   "source": [
    "box_df.createOrReplaceTempView('box_df')"
   ]
  },
  {
   "cell_type": "code",
   "execution_count": 8,
   "id": "18e736ba",
   "metadata": {},
   "outputs": [],
   "source": [
    "cummulatives_df = spark.sql(\"\"\"\n",
    "SELECT\n",
    "        game_date,\n",
    "        game_id,\n",
    "        season_type,\n",
    "        season_id,\n",
    "        id AS team_id,\n",
    "        full_name AS team_name,\n",
    "        player_id,\n",
    "        player,\n",
    "        pts AS points_scored,\n",
    "        (SUM(PTS) OVER(PARTITION BY season_id, player_id ORDER BY game_date, game_id ROWS UNBOUNDED PRECEDING)/COUNT(game_id) OVER(PARTITION BY season_id, player_id ORDER BY game_date, game_id ROWS UNBOUNDED PRECEDING)) AS cumavg_pts,\n",
    "        (SUM(field_goal_made) OVER(PARTITION BY season_id, player_id ORDER BY game_date, game_id ROWS UNBOUNDED PRECEDING)/COUNT(field_goal_made) OVER(PARTITION BY season_id, player_id ORDER BY game_date, game_id ROWS UNBOUNDED PRECEDING)) AS cumavg_fg_made,\n",
    "        (SUM(field_goal_attempt) OVER(PARTITION BY season_id, player_id ORDER BY game_date, game_id ROWS UNBOUNDED PRECEDING)/COUNT(field_goal_attempt) OVER(PARTITION BY season_id, player_id ORDER BY game_date, game_id ROWS UNBOUNDED PRECEDING)) AS cumavg_fg_attempt,\n",
    "        (SUM(free_throw_made) OVER(PARTITION BY season_id, player_id ORDER BY game_date, game_id ROWS UNBOUNDED PRECEDING)/COUNT(free_throw_made) OVER(PARTITION BY season_id, player_id ORDER BY game_date, game_id ROWS UNBOUNDED PRECEDING)) AS cumavg_ft_made,\n",
    "        (SUM(free_throw_attempt) OVER(PARTITION BY season_id, player_id ORDER BY game_date, game_id ROWS UNBOUNDED PRECEDING)/COUNT(free_throw_attempt) OVER(PARTITION BY season_id, player_id ORDER BY game_date, game_id ROWS UNBOUNDED PRECEDING)) AS cumavg_ft_attempt,\n",
    "        (SUM(OREB) OVER(PARTITION BY season_id, player_id ORDER BY game_date, game_id ROWS UNBOUNDED PRECEDING)/COUNT(OREB) OVER(PARTITION BY season_id, player_id ORDER BY game_date, game_id ROWS UNBOUNDED PRECEDING)) AS cumavg_oreb,\n",
    "        (SUM(DREB) OVER(PARTITION BY season_id, player_id ORDER BY game_date, game_id ROWS UNBOUNDED PRECEDING)/COUNT(DREB) OVER(PARTITION BY season_id, player_id ORDER BY game_date, game_id ROWS UNBOUNDED PRECEDING)) AS cumavg_dreb,\n",
    "        (SUM(STL) OVER(PARTITION BY season_id, player_id ORDER BY game_date, game_id ROWS UNBOUNDED PRECEDING)/COUNT(STL) OVER(PARTITION BY season_id, player_id ORDER BY game_date, game_id ROWS UNBOUNDED PRECEDING)) AS cumavg_stl,\n",
    "        (SUM(AST) OVER(PARTITION BY season_id, player_id ORDER BY game_date, game_id ROWS UNBOUNDED PRECEDING)/COUNT(AST) OVER(PARTITION BY season_id, player_id ORDER BY game_date, game_id ROWS UNBOUNDED PRECEDING)) AS cumavg_ast,\n",
    "        (SUM(BLK) OVER(PARTITION BY season_id, player_id ORDER BY game_date, game_id ROWS UNBOUNDED PRECEDING)/COUNT(BLK) OVER(PARTITION BY season_id, player_id ORDER BY game_date, game_id ROWS UNBOUNDED PRECEDING)) AS cumavg_blk,\n",
    "        (SUM(PF) OVER(PARTITION BY season_id, player_id ORDER BY game_date, game_id ROWS UNBOUNDED PRECEDING)/COUNT(PF) OVER(PARTITION BY season_id, player_id ORDER BY game_date, game_id ROWS UNBOUNDED PRECEDING)) AS cumavg_pf,\n",
    "        (SUM(TOV) OVER(PARTITION BY season_id, player_id ORDER BY game_date, game_id ROWS UNBOUNDED PRECEDING)/COUNT(TOV) OVER(PARTITION BY season_id, player_id ORDER BY game_date, game_id ROWS UNBOUNDED PRECEDING)) AS cumavg_tov\n",
    "    FROM\n",
    "        box_df\n",
    "\"\"\")"
   ]
  },
  {
   "cell_type": "code",
   "execution_count": 9,
   "id": "8a4f8ae8",
   "metadata": {},
   "outputs": [
    {
     "name": "stderr",
     "output_type": "stream",
     "text": [
      "[Stage 5:>                                                          (0 + 1) / 1]\r"
     ]
    },
    {
     "name": "stdout",
     "output_type": "stream",
     "text": [
      "+-------------------+--------+--------------+---------+----------+-------------+---------+-----------+-------------+------------------+-------------------+------------------+------------------+------------------+------------------+-------------------+--------------------+-------------------+-------------------+------------------+-------------------+\n",
      "|          game_date| game_id|   season_type|season_id|   team_id|    team_name|player_id|     player|points_scored|        cumavg_pts|     cumavg_fg_made| cumavg_fg_attempt|    cumavg_ft_made| cumavg_ft_attempt|       cumavg_oreb|        cumavg_dreb|          cumavg_stl|         cumavg_ast|         cumavg_blk|         cumavg_pf|         cumavg_tov|\n",
      "+-------------------+--------+--------------+---------+----------+-------------+---------+-----------+-------------+------------------+-------------------+------------------+------------------+------------------+------------------+-------------------+--------------------+-------------------+-------------------+------------------+-------------------+\n",
      "|1996-11-07 00:00:00|29600047|Regular Season|    21996|1610612753|Orlando Magic|        7|Dan Schayes|            2|               2.0|                0.0|               0.0|               2.0|               2.0|               0.0|                0.0|                 0.0|                0.0|                0.0|               1.0|                0.0|\n",
      "|1996-11-25 00:00:00|29600176|Regular Season|    21996|1610612753|Orlando Magic|        7|Dan Schayes|            0|               1.0|                0.0|               0.0|               1.0|               1.0|               0.0|                0.0|                 0.0|                0.0|                0.0|               0.5|                0.0|\n",
      "|1996-12-02 00:00:00|29600222|Regular Season|    21996|1610612753|Orlando Magic|        7|Dan Schayes|            0|0.6666666666666666|                0.0|               0.0|0.6666666666666666|0.6666666666666666|               0.0|                0.0|                 0.0|                0.0|                0.0|0.6666666666666666|                0.0|\n",
      "|1996-12-06 00:00:00|29600253|Regular Season|    21996|1610612753|Orlando Magic|        7|Dan Schayes|            0|               0.5|                0.0|              0.75|               0.5|               0.5|              0.25|                0.0|                 0.0|               0.25|                0.5|               1.0|                0.0|\n",
      "|1996-12-08 00:00:00|29600272|Regular Season|    21996|1610612753|Orlando Magic|        7|Dan Schayes|            2|               0.8|                0.2|               1.2|               0.4|               0.4|               0.6|                0.0|                 0.0|                0.2|                0.4|               1.2|                0.2|\n",
      "|1996-12-10 00:00:00|29600285|Regular Season|    21996|1610612753|Orlando Magic|        7|Dan Schayes|            2|               1.0|0.16666666666666666|1.3333333333333333|0.6666666666666666|0.6666666666666666|0.6666666666666666|0.16666666666666666|                 0.0|0.16666666666666666| 0.3333333333333333|               1.0|0.16666666666666666|\n",
      "|1996-12-13 00:00:00|29600307|Regular Season|    21996|1610612753|Orlando Magic|        7|Dan Schayes|            0|0.8571428571428571|0.14285714285714285|1.1428571428571428|0.5714285714285714|0.5714285714285714|0.5714285714285714|0.14285714285714285|                 0.0|0.14285714285714285| 0.2857142857142857|               1.0|0.14285714285714285|\n",
      "|1996-12-14 00:00:00|29600315|Regular Season|    21996|1610612753|Orlando Magic|        7|Dan Schayes|            0|              0.75|              0.125|             1.375|               0.5|               0.5|             0.625|               0.25|                 0.0|              0.125|               0.25|             0.875|              0.125|\n",
      "|1996-12-18 00:00:00|29600334|Regular Season|    21996|1610612753|Orlando Magic|        7|Dan Schayes|            0|0.6666666666666666| 0.1111111111111111|1.2222222222222223|0.4444444444444444|0.4444444444444444|0.5555555555555556| 0.3333333333333333|                 0.0| 0.1111111111111111| 0.2222222222222222|0.7777777777777778| 0.1111111111111111|\n",
      "|1996-12-30 00:00:00|29600417|Regular Season|    21996|1610612753|Orlando Magic|        7|Dan Schayes|            2|               0.8|                0.2|               1.2|               0.4|               0.4|               0.6|                0.4|                 0.0|                0.3|                0.2|               0.8|                0.2|\n",
      "|1997-01-02 00:00:00|29600425|Regular Season|    21996|1610612753|Orlando Magic|        7|Dan Schayes|           10|1.6363636363636365|0.45454545454545453|1.6363636363636365|0.7272727272727273|0.7272727272727273|0.8181818181818182| 0.6363636363636364|                 0.0| 0.2727272727272727| 0.2727272727272727|               1.0| 0.2727272727272727|\n",
      "|1997-01-03 00:00:00|29600437|Regular Season|    21996|1610612753|Orlando Magic|        7|Dan Schayes|            5|1.9166666666666667| 0.5833333333333334|2.1666666666666665|              0.75|              0.75|0.9166666666666666|               0.75|                 0.0| 0.3333333333333333|               0.25|              1.25|               0.25|\n",
      "|1997-01-07 00:00:00|29600460|Regular Season|    21996|1610612753|Orlando Magic|        7|Dan Schayes|            0|1.7692307692307692| 0.5384615384615384|               2.0|0.6923076923076923|0.6923076923076923|0.8461538461538461| 0.7692307692307693|                 0.0| 0.3076923076923077|0.23076923076923078|1.1538461538461537|0.23076923076923078|\n",
      "|1997-01-15 00:00:00|29600519|Regular Season|    21996|1610612753|Orlando Magic|        7|Dan Schayes|            4|1.9285714285714286| 0.6428571428571429|2.2857142857142856|0.6428571428571429|0.7857142857142857|1.0714285714285714| 1.0714285714285714|                 0.0| 0.2857142857142857| 0.2857142857142857|1.4285714285714286|0.35714285714285715|\n",
      "|1997-01-19 00:00:00|29600546|Regular Season|    21996|1610612753|Orlando Magic|        7|Dan Schayes|            4| 2.066666666666667| 0.6666666666666666|2.3333333333333335|0.7333333333333333|0.8666666666666667|1.0666666666666667|                1.2|                 0.0|0.26666666666666666| 0.3333333333333333|               1.6| 0.3333333333333333|\n",
      "|1997-01-21 00:00:00|29600561|Regular Season|    21996|1610612753|Orlando Magic|        7|Dan Schayes|            4|            2.1875|               0.75|             2.375|            0.6875|            0.8125|             1.125|             1.3125|                 0.0|               0.25|              0.375|             1.625|             0.3125|\n",
      "|1997-01-23 00:00:00|29600575|Regular Season|    21996|1610612753|Orlando Magic|        7|Dan Schayes|            0|2.0588235294117645| 0.7058823529411765|2.2941176470588234|0.6470588235294118|0.7647058823529411|1.0588235294117647| 1.2352941176470589|0.058823529411764705|0.23529411764705882|0.35294117647058826|1.7058823529411764|0.35294117647058826|\n",
      "|1997-01-28 00:00:00|29600608|Regular Season|    21996|1610612753|Orlando Magic|        7|Dan Schayes|            0|1.9444444444444444| 0.6666666666666666|2.1666666666666665|0.6111111111111112|0.7222222222222222|               1.0| 1.2222222222222223| 0.05555555555555555| 0.2222222222222222| 0.3333333333333333|1.6111111111111112| 0.3333333333333333|\n",
      "|1997-01-29 00:00:00|29600618|Regular Season|    21996|1610612753|Orlando Magic|        7|Dan Schayes|            2|1.9473684210526316| 0.6842105263157895| 2.263157894736842|0.5789473684210527|0.6842105263157895|1.0526315789473684| 1.1578947368421053| 0.10526315789473684| 0.2631578947368421| 0.3157894736842105| 1.631578947368421| 0.3157894736842105|\n",
      "|1997-01-31 00:00:00|29600632|Regular Season|    21996|1610612753|Orlando Magic|        7|Dan Schayes|            0|              1.85|               0.65|              2.15|              0.55|              0.65|               1.0|                1.1|                 0.1|               0.25|               0.35|              1.55|                0.3|\n",
      "+-------------------+--------+--------------+---------+----------+-------------+---------+-----------+-------------+------------------+-------------------+------------------+------------------+------------------+------------------+-------------------+--------------------+-------------------+-------------------+------------------+-------------------+\n",
      "only showing top 20 rows\n",
      "\n"
     ]
    },
    {
     "name": "stderr",
     "output_type": "stream",
     "text": [
      "\r",
      "                                                                                \r"
     ]
    }
   ],
   "source": [
    "cummulatives_df.show()"
   ]
  },
  {
   "cell_type": "code",
   "execution_count": 10,
   "id": "b93373f2",
   "metadata": {},
   "outputs": [],
   "source": [
    "cummulatives_df = cummulatives_df \\\n",
    "    .withColumn('pts_prediction', \\\n",
    "                f.col('cumavg_pts') + \\\n",
    "                0.4*f.col('cumavg_fg_made') - \\\n",
    "                0.7*f.col('cumavg_fg_attempt') - \\\n",
    "                0.4*(f.col('cumavg_ft_attempt') - f.col('cumavg_ft_made')) + \\\n",
    "                0.7*f.col('cumavg_oreb') + \\\n",
    "                0.3*f.col('cumavg_dreb') + \\\n",
    "                f.col('cumavg_stl') + \\\n",
    "                0.7*f.col('cumavg_ast') + \\\n",
    "                0.7*f.col('cumavg_blk') + \\\n",
    "                0.4*f.col('cumavg_pf') - \\\n",
    "                f.col('cumavg_tov') \\\n",
    "               )"
   ]
  },
  {
   "cell_type": "code",
   "execution_count": 11,
   "id": "99c88e64",
   "metadata": {},
   "outputs": [
    {
     "name": "stderr",
     "output_type": "stream",
     "text": [
      "[Stage 9:>                                                          (0 + 1) / 1]\r"
     ]
    },
    {
     "name": "stdout",
     "output_type": "stream",
     "text": [
      "+-------------------+--------+--------------+---------+----------+-------------+---------+-----------+-------------+------------------+-------------------+------------------+------------------+------------------+------------------+-------------------+--------------------+-------------------+-------------------+------------------+-------------------+------------------+\n",
      "|          game_date| game_id|   season_type|season_id|   team_id|    team_name|player_id|     player|points_scored|        cumavg_pts|     cumavg_fg_made| cumavg_fg_attempt|    cumavg_ft_made| cumavg_ft_attempt|       cumavg_oreb|        cumavg_dreb|          cumavg_stl|         cumavg_ast|         cumavg_blk|         cumavg_pf|         cumavg_tov|    pts_prediction|\n",
      "+-------------------+--------+--------------+---------+----------+-------------+---------+-----------+-------------+------------------+-------------------+------------------+------------------+------------------+------------------+-------------------+--------------------+-------------------+-------------------+------------------+-------------------+------------------+\n",
      "|1996-11-07 00:00:00|29600047|Regular Season|    21996|1610612753|Orlando Magic|        7|Dan Schayes|            2|               2.0|                0.0|               0.0|               2.0|               2.0|               0.0|                0.0|                 0.0|                0.0|                0.0|               1.0|                0.0|               2.4|\n",
      "|1996-11-25 00:00:00|29600176|Regular Season|    21996|1610612753|Orlando Magic|        7|Dan Schayes|            0|               1.0|                0.0|               0.0|               1.0|               1.0|               0.0|                0.0|                 0.0|                0.0|                0.0|               0.5|                0.0|               1.2|\n",
      "|1996-12-02 00:00:00|29600222|Regular Season|    21996|1610612753|Orlando Magic|        7|Dan Schayes|            0|0.6666666666666666|                0.0|               0.0|0.6666666666666666|0.6666666666666666|               0.0|                0.0|                 0.0|                0.0|                0.0|0.6666666666666666|                0.0|0.9333333333333333|\n",
      "|1996-12-06 00:00:00|29600253|Regular Season|    21996|1610612753|Orlando Magic|        7|Dan Schayes|            0|               0.5|                0.0|              0.75|               0.5|               0.5|              0.25|                0.0|                 0.0|               0.25|                0.5|               1.0|                0.0|1.0750000000000002|\n",
      "|1996-12-08 00:00:00|29600272|Regular Season|    21996|1610612753|Orlando Magic|        7|Dan Schayes|            2|               0.8|                0.2|               1.2|               0.4|               0.4|               0.6|                0.0|                 0.0|                0.2|                0.4|               1.2|                0.2|1.1600000000000001|\n",
      "|1996-12-10 00:00:00|29600285|Regular Season|    21996|1610612753|Orlando Magic|        7|Dan Schayes|            2|               1.0|0.16666666666666666|1.3333333333333333|0.6666666666666666|0.6666666666666666|0.6666666666666666|0.16666666666666666|                 0.0|0.16666666666666666| 0.3333333333333333|               1.0|0.16666666666666666|1.2333333333333336|\n",
      "|1996-12-13 00:00:00|29600307|Regular Season|    21996|1610612753|Orlando Magic|        7|Dan Schayes|            0|0.8571428571428571|0.14285714285714285|1.1428571428571428|0.5714285714285714|0.5714285714285714|0.5714285714285714|0.14285714285714285|                 0.0|0.14285714285714285| 0.2857142857142857|               1.0|0.14285714285714285|1.1142857142857143|\n",
      "|1996-12-14 00:00:00|29600315|Regular Season|    21996|1610612753|Orlando Magic|        7|Dan Schayes|            0|              0.75|              0.125|             1.375|               0.5|               0.5|             0.625|               0.25|                 0.0|              0.125|               0.25|             0.875|              0.125|0.8375000000000001|\n",
      "|1996-12-18 00:00:00|29600334|Regular Season|    21996|1610612753|Orlando Magic|        7|Dan Schayes|            0|0.6666666666666666| 0.1111111111111111|1.2222222222222223|0.4444444444444444|0.4444444444444444|0.5555555555555556| 0.3333333333333333|                 0.0| 0.1111111111111111| 0.2222222222222222|0.7777777777777778| 0.1111111111111111|0.7777777777777777|\n",
      "|1996-12-30 00:00:00|29600417|Regular Season|    21996|1610612753|Orlando Magic|        7|Dan Schayes|            2|               0.8|                0.2|               1.2|               0.4|               0.4|               0.6|                0.4|                 0.0|                0.3|                0.2|               0.8|                0.2|              1.05|\n",
      "|1997-01-02 00:00:00|29600425|Regular Season|    21996|1610612753|Orlando Magic|        7|Dan Schayes|           10|1.6363636363636365|0.45454545454545453|1.6363636363636365|0.7272727272727273|0.7272727272727273|0.8181818181818182| 0.6363636363636364|                 0.0| 0.2727272727272727| 0.2727272727272727|               1.0| 0.2727272727272727|1.9454545454545455|\n",
      "|1997-01-03 00:00:00|29600437|Regular Season|    21996|1610612753|Orlando Magic|        7|Dan Schayes|            5|1.9166666666666667| 0.5833333333333334|2.1666666666666665|              0.75|              0.75|0.9166666666666666|               0.75|                 0.0| 0.3333333333333333|               0.25|              1.25|               0.25| 2.158333333333333|\n",
      "|1997-01-07 00:00:00|29600460|Regular Season|    21996|1610612753|Orlando Magic|        7|Dan Schayes|            0|1.7692307692307692| 0.5384615384615384|               2.0|0.6923076923076923|0.6923076923076923|0.8461538461538461| 0.7692307692307693|                 0.0| 0.3076923076923077|0.23076923076923078|1.1538461538461537|0.23076923076923078|2.0153846153846158|\n",
      "|1997-01-15 00:00:00|29600519|Regular Season|    21996|1610612753|Orlando Magic|        7|Dan Schayes|            4|1.9285714285714286| 0.6428571428571429|2.2857142857142856|0.6428571428571429|0.7857142857142857|1.0714285714285714| 1.0714285714285714|                 0.0| 0.2857142857142857| 0.2857142857142857|1.4285714285714286|0.35714285714285715| 2.214285714285715|\n",
      "|1997-01-19 00:00:00|29600546|Regular Season|    21996|1610612753|Orlando Magic|        7|Dan Schayes|            4| 2.066666666666667| 0.6666666666666666|2.3333333333333335|0.7333333333333333|0.8666666666666667|1.0666666666666667|                1.2|                 0.0|0.26666666666666666| 0.3333333333333333|               1.6| 0.3333333333333333|              2.48|\n",
      "|1997-01-21 00:00:00|29600561|Regular Season|    21996|1610612753|Orlando Magic|        7|Dan Schayes|            4|            2.1875|               0.75|             2.375|            0.6875|            0.8125|             1.125|             1.3125|                 0.0|               0.25|              0.375|             1.625|             0.3125|2.7312499999999997|\n",
      "|1997-01-23 00:00:00|29600575|Regular Season|    21996|1610612753|Orlando Magic|        7|Dan Schayes|            0|2.0588235294117645| 0.7058823529411765|2.2941176470588234|0.6470588235294118|0.7647058823529411|1.0588235294117647| 1.2352941176470589|0.058823529411764705|0.23529411764705882|0.35294117647058826|1.7058823529411764|0.35294117647058826|               2.6|\n",
      "|1997-01-28 00:00:00|29600608|Regular Season|    21996|1610612753|Orlando Magic|        7|Dan Schayes|            0|1.9444444444444444| 0.6666666666666666|2.1666666666666665|0.6111111111111112|0.7222222222222222|               1.0| 1.2222222222222223| 0.05555555555555555| 0.2222222222222222| 0.3333333333333333|1.6111111111111112| 0.3333333333333333|2.4722222222222223|\n",
      "|1997-01-29 00:00:00|29600618|Regular Season|    21996|1610612753|Orlando Magic|        7|Dan Schayes|            2|1.9473684210526316| 0.6842105263157895| 2.263157894736842|0.5789473684210527|0.6842105263157895|1.0526315789473684| 1.1578947368421053| 0.10526315789473684| 0.2631578947368421| 0.3157894736842105| 1.631578947368421| 0.3157894736842105| 2.526315789473684|\n",
      "|1997-01-31 00:00:00|29600632|Regular Season|    21996|1610612753|Orlando Magic|        7|Dan Schayes|            0|              1.85|               0.65|              2.15|              0.55|              0.65|               1.0|                1.1|                 0.1|               0.25|               0.35|              1.55|                0.3| 2.435000000000001|\n",
      "+-------------------+--------+--------------+---------+----------+-------------+---------+-----------+-------------+------------------+-------------------+------------------+------------------+------------------+------------------+-------------------+--------------------+-------------------+-------------------+------------------+-------------------+------------------+\n",
      "only showing top 20 rows\n",
      "\n"
     ]
    },
    {
     "name": "stderr",
     "output_type": "stream",
     "text": [
      "\r",
      "                                                                                \r"
     ]
    }
   ],
   "source": [
    "cummulatives_df.show()"
   ]
  },
  {
   "cell_type": "code",
   "execution_count": 13,
   "id": "a85178af",
   "metadata": {},
   "outputs": [
    {
     "name": "stderr",
     "output_type": "stream",
     "text": [
      "                                                                                \r"
     ]
    }
   ],
   "source": [
    "cummulatives_df.write \\\n",
    "    .format('bigquery') \\\n",
    "    .option('temporaryGcsBucket', 'dataproc-temp-us-central1-385360674362-ioatwhvx') \\\n",
    "    .mode('overwrite') \\\n",
    "    .save('dez-nba-analytics.nba_database.player_points_prediction')"
   ]
  },
  {
   "cell_type": "code",
   "execution_count": null,
   "id": "19214c50",
   "metadata": {},
   "outputs": [],
   "source": []
  }
 ],
 "metadata": {
  "kernelspec": {
   "display_name": "PySpark",
   "language": "python",
   "name": "pyspark"
  },
  "language_info": {
   "codemirror_mode": {
    "name": "ipython",
    "version": 3
   },
   "file_extension": ".py",
   "mimetype": "text/x-python",
   "name": "python",
   "nbconvert_exporter": "python",
   "pygments_lexer": "ipython3",
   "version": "3.11.8"
  }
 },
 "nbformat": 4,
 "nbformat_minor": 5
}