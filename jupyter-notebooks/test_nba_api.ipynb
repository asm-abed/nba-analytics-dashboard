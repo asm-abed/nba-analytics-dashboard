{
 "cells": [
  {
   "cell_type": "code",
   "execution_count": 43,
   "id": "435cfb06",
   "metadata": {},
   "outputs": [],
   "source": [
    "import pandas as pd\n",
    "import json\n",
    "from nba_api.stats.endpoints import TeamGameLogs"
   ]
  },
  {
   "cell_type": "code",
   "execution_count": 35,
   "id": "92e260fe",
   "metadata": {},
   "outputs": [],
   "source": [
    "games = teamgamelogs.SeasonNullable"
   ]
  },
  {
   "cell_type": "code",
   "execution_count": 44,
   "id": "9a867c3c",
   "metadata": {},
   "outputs": [],
   "source": [
    "game_datapull = TeamGameLogs(league_id_nullable ='00', season_nullable = '2023-24')"
   ]
  },
  {
   "cell_type": "code",
   "execution_count": 45,
   "id": "330ffb57",
   "metadata": {},
   "outputs": [],
   "source": [
    "df_season = game_datapull.get_data_frames()[0]"
   ]
  },
  {
   "cell_type": "code",
   "execution_count": 47,
   "id": "7694c9c0",
   "metadata": {},
   "outputs": [],
   "source": [
    "game_ids = df_season['GAME_ID'].unique()"
   ]
  },
  {
   "cell_type": "code",
   "execution_count": 48,
   "id": "0758cd6b",
   "metadata": {},
   "outputs": [
    {
     "data": {
      "text/plain": [
       "1090"
      ]
     },
     "execution_count": 48,
     "metadata": {},
     "output_type": "execute_result"
    }
   ],
   "source": [
    "len(game_ids)"
   ]
  }
 ],
 "metadata": {
  "kernelspec": {
   "display_name": "Python 3",
   "language": "python",
   "name": "python3"
  },
  "language_info": {
   "codemirror_mode": {
    "name": "ipython",
    "version": 3
   },
   "file_extension": ".py",
   "mimetype": "text/x-python",
   "name": "python",
   "nbconvert_exporter": "python",
   "pygments_lexer": "ipython3",
   "version": "3.6.9"
  }
 },
 "nbformat": 4,
 "nbformat_minor": 5
}
