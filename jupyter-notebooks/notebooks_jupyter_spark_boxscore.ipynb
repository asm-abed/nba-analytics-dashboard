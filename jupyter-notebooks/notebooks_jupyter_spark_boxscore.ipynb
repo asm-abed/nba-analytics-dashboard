{
 "cells": [
  {
   "cell_type": "code",
   "execution_count": 1,
   "id": "72b4e14f",
   "metadata": {},
   "outputs": [],
   "source": [
    "import pyspark\n",
    "from pyspark.sql import SparkSession\n",
    "from pyspark.conf import SparkConf\n",
    "from pyspark.context import SparkContext"
   ]
  },
  {
   "cell_type": "code",
   "execution_count": 2,
   "id": "32af3a0e",
   "metadata": {},
   "outputs": [
    {
     "name": "stderr",
     "output_type": "stream",
     "text": [
      "24/03/28 16:52:30 WARN SparkSession: Using an existing Spark session; only runtime SQL configurations will take effect.\n"
     ]
    }
   ],
   "source": [
    "spark = SparkSession.builder \\\n",
    "    .appName('test-bq') \\\n",
    "    .getOrCreate()"
   ]
  },
  {
   "cell_type": "code",
   "execution_count": 4,
   "id": "3a2f8669",
   "metadata": {},
   "outputs": [
    {
     "data": {
      "text/html": [
       "\n",
       "            <div>\n",
       "                <p><b>SparkSession - hive</b></p>\n",
       "                \n",
       "        <div>\n",
       "            <p><b>SparkContext</b></p>\n",
       "\n",
       "            <p><a href=\"http://dez2024-nba-cluster-m.us-central1-a.c.dez-nba-analytics.internal:43495\">Spark UI</a></p>\n",
       "\n",
       "            <dl>\n",
       "              <dt>Version</dt>\n",
       "                <dd><code>v3.5.0</code></dd>\n",
       "              <dt>Master</dt>\n",
       "                <dd><code>yarn</code></dd>\n",
       "              <dt>AppName</dt>\n",
       "                <dd><code>PySparkShell</code></dd>\n",
       "            </dl>\n",
       "        </div>\n",
       "        \n",
       "            </div>\n",
       "        "
      ],
      "text/plain": [
       "<pyspark.sql.session.SparkSession at 0x7faa10f60310>"
      ]
     },
     "execution_count": 4,
     "metadata": {},
     "output_type": "execute_result"
    }
   ],
   "source": [
    "spark"
   ]
  },
  {
   "cell_type": "code",
   "execution_count": 9,
   "id": "77e5d815",
   "metadata": {},
   "outputs": [
    {
     "name": "stderr",
     "output_type": "stream",
     "text": [
      "/usr/lib/spark/python/pyspark/sql/dataframe.py:329: FutureWarning: Deprecated in 2.0, use createOrReplaceTempView instead.\n",
      "  warnings.warn(\"Deprecated in 2.0, use createOrReplaceTempView instead.\", FutureWarning)\n"
     ]
    }
   ],
   "source": [
    "box_df = spark.read.format('bigquery') \\\n",
    "  .option('table', 'dez-nba-analytics.nba_database.player_boxscore_par_cl') \\\n",
    "  .load()\n",
    "\n",
    "box_df.createOrReplaceTempView('box_df')"
   ]
  },
  {
   "cell_type": "code",
   "execution_count": 10,
   "id": "40e5094b",
   "metadata": {},
   "outputs": [
    {
     "data": {
      "text/plain": [
       "['game_id',\n",
       " 'game_date',\n",
       " 'season_type',\n",
       " 'player_id',\n",
       " 'player',\n",
       " 'team',\n",
       " 'home',\n",
       " 'away',\n",
       " 'mins_played',\n",
       " 'PTS',\n",
       " 'field_goal_made',\n",
       " 'field_goal_attempt',\n",
       " 'field_goal_pct',\n",
       " 'three_pt_made',\n",
       " 'three_pt_attempt',\n",
       " 'three_pt_pct',\n",
       " 'free_throw_made',\n",
       " 'free_throw_attempt',\n",
       " 'free_throw_pct',\n",
       " 'OREB',\n",
       " 'DREB',\n",
       " 'REB',\n",
       " 'AST',\n",
       " 'STL',\n",
       " 'BLK',\n",
       " 'TOV',\n",
       " 'PF',\n",
       " 'plusminus',\n",
       " 'win',\n",
       " 'season_id']"
      ]
     },
     "execution_count": 10,
     "metadata": {},
     "output_type": "execute_result"
    }
   ],
   "source": [
    "box_df.columns"
   ]
  },
  {
   "cell_type": "code",
   "execution_count": 11,
   "id": "40e982b6",
   "metadata": {},
   "outputs": [],
   "source": [
    "season_stats = spark.sql(\"\"\"\n",
    "SELECT\n",
    "        -- Basic info about the players\n",
    "        season_id,\n",
    "        player_id,\n",
    "        player AS player_name,\n",
    "        \n",
    "        -- Summary of statistics\n",
    "        SUM(PTS) AS total_points_scored,\n",
    "        SUM(field_goal_made) AS total_fg_made,\n",
    "        SUM(field_goal_attempt) AS total_fg_attempts,\n",
    "        SUM(field_goal_made)/SUM(field_goal_attempt) AS season_shots_percentage,\n",
    "        SUM(three_pt_made) AS total_three_pt_made,\n",
    "        SUM(three_pt_attempt) AS total_three_pt_attempts,\n",
    "        SUM(three_pt_made)/SUM(three_pt_attempt) AS season_three_pt_percentage,\n",
    "        SUM(free_throw_made) AS total_free_throw_made,\n",
    "        SUM(free_throw_attempt) AS total_free_throw_attempts,\n",
    "        SUM(free_throw_made)/SUM(free_throw_attempt) AS season_freethrow_percentage,\n",
    "        SUM(REB) AS total_rebounds,\n",
    "        SUM(AST) AS total_assists,\n",
    "        SUM(STL) AS total_steals,\n",
    "        SUM(TOV) AS total_turnovers,\n",
    "        \n",
    "        -- General averages\n",
    "        AVG(PTS) AS avg_points_scored_per_match,\n",
    "        AVG(field_goal_made) AS avg_shots_per_match,\n",
    "        AVG(three_pt_made) AS avg_three_pt_shots_per_match\n",
    "    FROM\n",
    "        box_df\n",
    "    GROUP BY\n",
    "        1, 2, 3        \n",
    "\"\"\")"
   ]
  },
  {
   "cell_type": "code",
   "execution_count": 16,
   "id": "c3dd6b6d",
   "metadata": {},
   "outputs": [
    {
     "name": "stderr",
     "output_type": "stream",
     "text": [
      "                                                                                \r"
     ]
    }
   ],
   "source": [
    "season_stats.write \\\n",
    "    .format('bigquery') \\\n",
    "    .option('temporaryGcsBucket', 'dataproc-temp-us-central1-385360674362-ioatwhvx') \\\n",
    "    .save('dez-nba-analytics.nba_database.season_player_summary')"
   ]
  },
  {
   "cell_type": "code",
   "execution_count": null,
   "id": "921b5d27",
   "metadata": {},
   "outputs": [],
   "source": []
  }
 ],
 "metadata": {
  "kernelspec": {
   "display_name": "PySpark",
   "language": "python",
   "name": "pyspark"
  },
  "language_info": {
   "codemirror_mode": {
    "name": "ipython",
    "version": 3
   },
   "file_extension": ".py",
   "mimetype": "text/x-python",
   "name": "python",
   "nbconvert_exporter": "python",
   "pygments_lexer": "ipython3",
   "version": "3.11.8"
  }
 },
 "nbformat": 4,
 "nbformat_minor": 5
}