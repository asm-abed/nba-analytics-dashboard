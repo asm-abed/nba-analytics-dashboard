{
 "cells": [
  {
   "cell_type": "code",
   "execution_count": null,
   "id": "72b4e14f",
   "metadata": {},
   "outputs": [],
   "source": [
    "import pyspark\n",
    "from pyspark.sql import SparkSession\n",
    "from pyspark.sql import functions as f\n",
    "from datetime import date, timedelta\n",
    "\n",
    "log = date.today()-timedelta(days=1)\n",
    "print(log)"
   ]
  },
  {
   "cell_type": "code",
   "execution_count": null,
   "id": "32af3a0e",
   "metadata": {},
   "outputs": [],
   "source": [
    "spark = SparkSession.builder \\\n",
    "    .appName('spark-nba') \\\n",
    "    .getOrCreate()"
   ]
  },
  {
   "cell_type": "code",
   "execution_count": null,
   "id": "ed214f03",
   "metadata": {},
   "outputs": [],
   "source": [
    "summary = spark.read.format('bigquery') \\\n",
    "    .option('table', 'dez-nba-analytics.nba_database.season_player_summary') \\\n",
    "    .load() \\\n",
    "    .filter(f.col('season_id') != 22023)"
   ]
  },
  {
   "cell_type": "code",
   "execution_count": null,
   "id": "c04e41d0",
   "metadata": {},
   "outputs": [],
   "source": [
    "summary.write \\\n",
    "    .format('bigquery') \\\n",
    "    .option('temporaryGcsBucket', 'dataproc-temp-us-central1-385360674362-ioatwhvx') \\\n",
    "    .mode('overwrite') \\\n",
    "    .save('dez-nba-analytics.nba_database.season_player_summary')"
   ]
  },
  {
   "cell_type": "code",
   "execution_count": null,
   "id": "77e5d815",
   "metadata": {},
   "outputs": [],
   "source": [
    "box_df = spark.read.format('bigquery') \\\n",
    "    .option('table', 'dez-nba-analytics.nba_database.player_boxscore') \\\n",
    "    .load() \\\n",
    "    .filter(f.col('season_id') == 22023)\n",
    "\n",
    "box_df.createOrReplaceTempView('box_df')"
   ]
  },
  {
   "cell_type": "code",
   "execution_count": null,
   "id": "40e982b6",
   "metadata": {},
   "outputs": [],
   "source": [
    "season_stats = spark.sql(\"\"\"\n",
    "SELECT\n",
    "        -- Basic info about the players\n",
    "        season_id,\n",
    "        player_id,\n",
    "        player AS player_name,\n",
    "        \n",
    "        -- Summary of statistics\n",
    "        SUM(PTS) AS total_points_scored,\n",
    "        SUM(field_goal_made) AS total_fg_made,\n",
    "        SUM(field_goal_attempt) AS total_fg_attempts,\n",
    "        SUM(field_goal_made)/SUM(field_goal_attempt) AS season_shots_percentage,\n",
    "        SUM(three_pt_made) AS total_three_pt_made,\n",
    "        SUM(three_pt_attempt) AS total_three_pt_attempts,\n",
    "        SUM(three_pt_made)/SUM(three_pt_attempt) AS season_three_pt_percentage,\n",
    "        SUM(free_throw_made) AS total_free_throw_made,\n",
    "        SUM(free_throw_attempt) AS total_free_throw_attempts,\n",
    "        SUM(free_throw_made)/SUM(free_throw_attempt) AS season_freethrow_percentage,\n",
    "        SUM(REB) AS total_rebounds,\n",
    "        SUM(AST) AS total_assists,\n",
    "        SUM(STL) AS total_steals,\n",
    "        SUM(TOV) AS total_turnovers,\n",
    "        \n",
    "        -- General averages\n",
    "        AVG(PTS) AS avg_points_scored_per_match,\n",
    "        AVG(field_goal_made) AS avg_shots_per_match,\n",
    "        AVG(three_pt_made) AS avg_three_pt_shots_per_match\n",
    "    FROM\n",
    "        box_df\n",
    "    GROUP BY\n",
    "        1, 2, 3        \n",
    "\"\"\")"
   ]
  },
  {
   "cell_type": "code",
   "execution_count": null,
   "id": "c3dd6b6d",
   "metadata": {},
   "outputs": [],
   "source": [
    "season_stats.write \\\n",
    "    .format('bigquery') \\\n",
    "    .option('temporaryGcsBucket', 'dataproc-temp-us-central1-385360674362-ioatwhvx') \\\n",
    "    .mode('append') \\\n",
    "    .save('dez-nba-analytics.nba_database.season_player_summary')"
   ]
  }
 ],
 "metadata": {
  "kernelspec": {
   "display_name": "PySpark",
   "language": "python",
   "name": "pyspark"
  },
  "language_info": {
   "codemirror_mode": {
    "name": "ipython",
    "version": 3
   },
   "file_extension": ".py",
   "mimetype": "text/x-python",
   "name": "python",
   "nbconvert_exporter": "python",
   "pygments_lexer": "ipython3",
   "version": "3.11.8"
  }
 },
 "nbformat": 4,
 "nbformat_minor": 5
}